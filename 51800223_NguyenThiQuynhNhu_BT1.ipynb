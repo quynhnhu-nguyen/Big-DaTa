{
  "nbformat": 4,
  "nbformat_minor": 0,
  "metadata": {
    "colab": {
      "name": "51800223_NguyenThiQuynhNhu_BT1.ipynb",
      "provenance": []
    },
    "kernelspec": {
      "name": "python3",
      "display_name": "Python 3"
    }
  },
  "cells": [
    {
      "cell_type": "code",
      "metadata": {
        "colab": {
          "base_uri": "https://localhost:8080/"
        },
        "id": "60dAHT06W9qE",
        "outputId": "d6050db0-3334-4f2a-987e-6fd3106be56b"
      },
      "source": [
        "!pip install pyspark"
      ],
      "execution_count": 1,
      "outputs": [
        {
          "output_type": "stream",
          "text": [
            "Collecting pyspark\n",
            "\u001b[?25l  Downloading https://files.pythonhosted.org/packages/f0/26/198fc8c0b98580f617cb03cb298c6056587b8f0447e20fa40c5b634ced77/pyspark-3.0.1.tar.gz (204.2MB)\n",
            "\u001b[K     |████████████████████████████████| 204.2MB 53kB/s \n",
            "\u001b[?25hCollecting py4j==0.10.9\n",
            "\u001b[?25l  Downloading https://files.pythonhosted.org/packages/9e/b6/6a4fb90cd235dc8e265a6a2067f2a2c99f0d91787f06aca4bcf7c23f3f80/py4j-0.10.9-py2.py3-none-any.whl (198kB)\n",
            "\u001b[K     |████████████████████████████████| 204kB 51.7MB/s \n",
            "\u001b[?25hBuilding wheels for collected packages: pyspark\n",
            "  Building wheel for pyspark (setup.py) ... \u001b[?25l\u001b[?25hdone\n",
            "  Created wheel for pyspark: filename=pyspark-3.0.1-py2.py3-none-any.whl size=204612242 sha256=a8182491e44fe2de28b38a486436f1a647d3250b97b4b463cdc6f3f0fae75215\n",
            "  Stored in directory: /root/.cache/pip/wheels/5e/bd/07/031766ca628adec8435bb40f0bd83bb676ce65ff4007f8e73f\n",
            "Successfully built pyspark\n",
            "Installing collected packages: py4j, pyspark\n",
            "Successfully installed py4j-0.10.9 pyspark-3.0.1\n"
          ],
          "name": "stdout"
        }
      ]
    },
    {
      "cell_type": "code",
      "metadata": {
        "id": "w2h03aVMXAEP"
      },
      "source": [
        "import pyspark"
      ],
      "execution_count": 3,
      "outputs": []
    },
    {
      "cell_type": "code",
      "metadata": {
        "colab": {
          "base_uri": "https://localhost:8080/"
        },
        "id": "BlISgshsXecL",
        "outputId": "976e16ba-40f4-42e0-fda9-6ea2004dd381"
      },
      "source": [
        "from pyspark import SparkConf, SparkContext\r\n",
        "import collections\r\n",
        "\r\n",
        "conf= SparkConf().setMaster(\"local\").setAppName(\"word counting\")\r\n",
        "sc= SparkContext.getOrCreate(conf= conf)\r\n",
        "\r\n",
        "text_file = sc.textFile(\"/content/baitap.txt\")\r\n",
        "text = text_file.collect()\r\n",
        "\r\n",
        "for i in text:\r\n",
        "\tprint(i)"
      ],
      "execution_count": 23,
      "outputs": [
        {
          "output_type": "stream",
          "text": [
            "Toi ten la Nguyen Thi Quynh Nhu\n",
            "My name is Quynh Nhu\n",
            "Sinh vien Dai hoc Ton Duc Thang\n",
            "Student of Ton Duc Thang University\n",
            "MSSV Quynh Nhu 51800223\n"
          ],
          "name": "stdout"
        }
      ]
    },
    {
      "cell_type": "code",
      "metadata": {
        "colab": {
          "base_uri": "https://localhost:8080/"
        },
        "id": "oxYkrwpfYOCF",
        "outputId": "25ac0c94-3721-4809-a61a-4a6bfe8bf7ee"
      },
      "source": [
        "words = text_file.flatMap(lambda line: line.split(\" \"))\r\n",
        "wordCounts = words.map(lambda word: (word, 1)).reduceByKey(lambda a,b:a +b)\r\n",
        "print(wordCounts.collect())"
      ],
      "execution_count": 24,
      "outputs": [
        {
          "output_type": "stream",
          "text": [
            "[('Toi', 1), ('ten', 1), ('la', 1), ('Nguyen', 1), ('Thi', 1), ('Quynh', 3), ('Nhu', 3), ('My', 1), ('name', 1), ('is', 1), ('Sinh', 1), ('vien', 1), ('Dai', 1), ('hoc', 1), ('Ton', 2), ('Duc', 2), ('Thang', 2), ('Student', 1), ('of', 1), ('University', 1), ('MSSV', 1), ('51800223', 1)]\n"
          ],
          "name": "stdout"
        }
      ]
    },
    {
      "cell_type": "code",
      "metadata": {
        "colab": {
          "base_uri": "https://localhost:8080/"
        },
        "id": "J77xF7scw0Mc",
        "outputId": "bf2a4914-b501-4f55-f09f-9b6119cb7cb8"
      },
      "source": [
        "max = wordCounts.reduce(lambda x, y : x if x[1] > y[1] else y)\r\n",
        "result = ', '.join(map(str,[i[0] for i in wordCounts.collect() if(i[1] == max[1])]))\r\n",
        "\r\n",
        "print(\"Các từ '\" + result + \"' xuất hiện nhiều nhất (tần suất \"+ str(max[1]) + \" lần)\")"
      ],
      "execution_count": 38,
      "outputs": [
        {
          "output_type": "stream",
          "text": [
            "Các từ 'Quynh, Nhu' xuất hiện nhiều nhất (tần suất 3 lần)\n"
          ],
          "name": "stdout"
        }
      ]
    }
  ]
}